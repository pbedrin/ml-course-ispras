{
 "cells": [
  {
   "cell_type": "markdown",
   "id": "ab86a69e-e1a9-4b53-b1d4-4439a0c16d65",
   "metadata": {},
   "source": [
    "# Семинар 1. Знакомство с numpy и pandas.\n",
    "\n",
    "По мотивам семинаров $№2$ и $№8$, читавшихся в `OzonMasters` в 2021 году. \n",
    "\n",
    "`Numpy` и `pandas` - два популярных инстурмента для анализа данных. В данном ноутбуке мы познакомимся с их основными функциями и особенностями.\n",
    "\n",
    "## Работа с массивами в Python"
   ]
  },
  {
   "cell_type": "code",
   "execution_count": 1,
   "id": "ca01de77-8ef9-43ac-bdb2-d9138cdc94d3",
   "metadata": {},
   "outputs": [
    {
     "data": {
      "text/plain": [
       "[[0, 1, 2, 3, 4], [5, 6, 7, 8, 9], [10, 11, 12, 13, 14], [15, 16, 17, 18, 19]]"
      ]
     },
     "execution_count": 1,
     "metadata": {},
     "output_type": "execute_result"
    }
   ],
   "source": [
    "# многомерный массив в Python\n",
    "\n",
    "m = [[0, 1, 2, 3, 4],\n",
    "     [5, 6, 7, 8, 9],\n",
    "     [10, 11, 12, 13, 14],\n",
    "     [15, 16, 17, 18, 19]]\n",
    "\n",
    "m"
   ]
  },
  {
   "cell_type": "markdown",
   "id": "c8b79a1b-776d-4748-9a7f-40badc6b5e4b",
   "metadata": {},
   "source": [
    "Попробуем решить две довольно простые задачи:\n",
    "\n",
    "**Задача 1.**\n",
    "\n",
    "Реализуйте тело функции `get_column(matrix, index)`, которая по переданной матрице `matrix` и номеру столбца `index` возвращает соответсвующий столбец переданной матрицы."
   ]
  },
  {
   "cell_type": "code",
   "execution_count": 3,
   "id": "a12f32d4-5c7d-4b40-a505-1967281b203d",
   "metadata": {},
   "outputs": [],
   "source": [
    "from typing import List\n",
    "\n",
    "def get_column(matrix: List[List[float]], index: int):\n",
    "    return [row[index] for row in matrix]"
   ]
  },
  {
   "cell_type": "code",
   "execution_count": 4,
   "id": "8bfcc177-358a-4e0e-b761-5a78fbcf1dff",
   "metadata": {},
   "outputs": [],
   "source": [
    "assert get_column(m, 0) == [0, 5, 10, 15]\n",
    "assert get_column(m, 2) == [2, 7, 12, 17]\n",
    "assert get_column(m, -1) == [4, 9, 14, 19]\n",
    "\n",
    "b = [[ 1,  3],\n",
    "     [ 6,  8],\n",
    "     [11, 13],\n",
    "     [16, 18]] \n",
    "\n",
    "assert get_column(m, slice(1, None, 2)) == b"
   ]
  },
  {
   "cell_type": "code",
   "execution_count": null,
   "id": "81c4d062-0971-438b-bd92-36de8cb512a3",
   "metadata": {},
   "outputs": [],
   "source": [
    "%%timeit\n",
    "\n",
    "get_column(m, 1)"
   ]
  },
  {
   "cell_type": "markdown",
   "id": "6194e0b9-1abd-4477-92c5-0e4b86f5c67e",
   "metadata": {},
   "source": [
    "**Задача 2.**\n",
    "\n",
    "Реализуйте тело функции `transpose(matrix)`,  которая по переданной матрице matrix возвращает транспонированную матрицу `matrix`$^T$."
   ]
  },
  {
   "cell_type": "code",
   "execution_count": 24,
   "id": "acc8f9a3-3065-4895-884c-1dc64c72775f",
   "metadata": {},
   "outputs": [],
   "source": [
    "def transpose(matrix: List[List[float]]):\n",
    "    # res = []\n",
    "    # for col_idx in range(len(matrix[0])):\n",
    "    #     res.append([matrix[row_idx][col_idx] for row_idx in range(len(matrix))])\n",
    "    # return res\n",
    "    return [get_column(matrix, col_idx) for col_idx in range(len(matrix[0]))]"
   ]
  },
  {
   "cell_type": "code",
   "execution_count": 25,
   "id": "6c5de72d-0c4c-4c3f-82f0-40258f567301",
   "metadata": {},
   "outputs": [],
   "source": [
    "b = [[0, 5, 10, 15],\n",
    "     [1, 6, 11, 16],\n",
    "     [2, 7, 12, 17],\n",
    "     [3, 8, 13, 18],\n",
    "     [4, 9, 14, 19]]\n",
    "\n",
    "assert transpose(m) == b"
   ]
  },
  {
   "cell_type": "code",
   "execution_count": null,
   "id": "2f6d4cca-c6e8-4632-bb5d-f06a8ce24813",
   "metadata": {},
   "outputs": [],
   "source": [
    "%%timeit\n",
    "\n",
    "transpose(m)"
   ]
  },
  {
   "cell_type": "markdown",
   "id": "2bd0523c-aa59-4de1-9d51-abb5b25cb846",
   "metadata": {},
   "source": [
    "Создадим матрицу $M$ размером $500 \\times 10$, в которой ij-ый элемент будет равен 10 * i + j. "
   ]
  },
  {
   "cell_type": "code",
   "execution_count": 29,
   "id": "16a8cc0e-c67f-41e4-8dad-7fb88b3cd400",
   "metadata": {},
   "outputs": [],
   "source": [
    "M = [[10 * i + j for j in range(10)] for i in range(500)]"
   ]
  },
  {
   "cell_type": "markdown",
   "id": "4e7d39ae-f605-47ae-8b44-698f4e9456cf",
   "metadata": {},
   "source": [
    "Реализуем поэлементное умножение матрицы $M$ на $2$."
   ]
  },
  {
   "cell_type": "code",
   "execution_count": null,
   "id": "4b9c0c0a-97b0-4ae0-9be2-0e585703897e",
   "metadata": {},
   "outputs": [],
   "source": [
    "# первый способо через list.append\n",
    "\n",
    "def matrix_multiply_list(matrix: List[List[float]]):\n",
    "    A_new = []\n",
    "\n",
    "    for x_row in matrix:\n",
    "        x_row_new = []\n",
    "        for xy_elem in x_row:\n",
    "            x_row_new.append(2 * xy_elem)\n",
    "        A_new.append(x_row_new)\n",
    "    \n",
    "    return A_new"
   ]
  },
  {
   "cell_type": "code",
   "execution_count": null,
   "id": "5708cfc3-5543-4a56-8c2c-c0894acd241e",
   "metadata": {},
   "outputs": [],
   "source": [
    "%%timeit\n",
    "\n",
    "matrix_multiply_list(M)"
   ]
  },
  {
   "cell_type": "code",
   "execution_count": null,
   "id": "b3df81b8-6163-44c0-9429-cecd0ccc333e",
   "metadata": {},
   "outputs": [],
   "source": [
    "# второй способ через list comprehension\n",
    "\n",
    "def matrix_multiply_list_comp(matrix: List[List[float]]):\n",
    "    A_new = [[2 * e for e in row] for row in matrix]\n",
    "    return A_new"
   ]
  },
  {
   "cell_type": "code",
   "execution_count": null,
   "id": "7478b1a0-0eca-4ab0-8967-00ae0a88df8e",
   "metadata": {},
   "outputs": [],
   "source": [
    "%%timeit\n",
    "\n",
    "matrix_multiply_list_comp(M)"
   ]
  },
  {
   "cell_type": "code",
   "execution_count": 26,
   "id": "b966e467-ddc9-430f-961e-8a7f61829b7e",
   "metadata": {},
   "outputs": [],
   "source": [
    "# реализуем то же самое через numpy\n",
    "import numpy as np"
   ]
  },
  {
   "cell_type": "code",
   "execution_count": 27,
   "id": "298aaeb5-8a32-4d50-8927-8337eeceeaca",
   "metadata": {},
   "outputs": [
    {
     "name": "stdout",
     "output_type": "stream",
     "text": [
      "510 µs ± 1.5 µs per loop (mean ± std. dev. of 7 runs, 1,000 loops each)\n"
     ]
    }
   ],
   "source": [
    "%%timeit\n",
    "\n",
    "M_np = np.zeros((500, 10))\n",
    "\n",
    "for row_i in range(500):\n",
    "    for col_i in range(10):\n",
    "        M_np[row_i][col_i] = col_i + 10 * row_i"
   ]
  },
  {
   "cell_type": "code",
   "execution_count": 30,
   "id": "2dc36052-1cbf-493f-b432-783169e216ba",
   "metadata": {},
   "outputs": [],
   "source": [
    "M_np = np.asarray(M, dtype=int)"
   ]
  },
  {
   "cell_type": "markdown",
   "id": "372d0003-5434-4f64-b92d-eea95edfc5d4",
   "metadata": {},
   "source": [
    "- сравним скорость работы рассмотренных реализаций c `numpy`"
   ]
  },
  {
   "cell_type": "code",
   "execution_count": null,
   "id": "6c8f4555-17f5-487d-8241-89a356407671",
   "metadata": {},
   "outputs": [],
   "source": [
    "%%timeit\n",
    "\n",
    "M_np * 2"
   ]
  },
  {
   "cell_type": "markdown",
   "id": "ededae53-538a-4065-ae13-e109b78c0e0a",
   "metadata": {},
   "source": [
    "Основное преимущество numpy - высокая скорость работы.\n",
    "\n",
    "|Type| time|\n",
    "|-----------------|---------|\n",
    "| lists           | 149 μs  |\n",
    "| lists generator | 123 μs  |\n",
    "| numpy           | 1.32 μs |"
   ]
  },
  {
   "cell_type": "markdown",
   "id": "d843949b-bd68-4362-ae92-4746efd1758b",
   "metadata": {},
   "source": [
    "### [Создание массивов](https://numpy.org/doc/stable/reference/routines.array-creation.html)"
   ]
  },
  {
   "cell_type": "code",
   "execution_count": null,
   "id": "c68aa75e-bd7a-42be-b608-e750764a8f1e",
   "metadata": {},
   "outputs": [],
   "source": [
    "np.zeros((5, )) # создание матрицы из нулей\n",
    "np.ones((5, )) # создание матрицы из единиц\n",
    "np.eye(5) # создание единичной матрицы"
   ]
  },
  {
   "cell_type": "code",
   "execution_count": 42,
   "id": "4eecf3ab",
   "metadata": {},
   "outputs": [
    {
     "data": {
      "text/plain": [
       "array([[ True,  True,  True,  True,  True,  True,  True,  True,  True,\n",
       "         True]])"
      ]
     },
     "execution_count": 42,
     "metadata": {},
     "output_type": "execute_result"
    }
   ],
   "source": [
    "np.array([np.arange(0, 10, 1) == np.arange(0, 10)])"
   ]
  },
  {
   "cell_type": "code",
   "execution_count": 47,
   "id": "8afa843c-3714-4231-83a7-0fcaeda141c4",
   "metadata": {},
   "outputs": [
    {
     "name": "stdout",
     "output_type": "stream",
     "text": [
      "[0 1 2 3 4 5 6 7 8 9]\n"
     ]
    }
   ],
   "source": [
    "assert np.array([np.arange(0, 10, 1) == np.arange(0, 10)]).all()\n",
    "\n",
    "print(np.arange(10))"
   ]
  },
  {
   "cell_type": "code",
   "execution_count": 44,
   "id": "aea752cc-b756-4e0a-b07e-eb2e68bdc700",
   "metadata": {},
   "outputs": [
    {
     "data": {
      "text/plain": [
       "array([0. , 0.2, 0.4, 0.6, 0.8, 1. , 1.2, 1.4, 1.6, 1.8, 2. , 2.2, 2.4,\n",
       "       2.6, 2.8, 3. , 3.2, 3.4, 3.6, 3.8, 4. , 4.2, 4.4, 4.6, 4.8])"
      ]
     },
     "execution_count": 44,
     "metadata": {},
     "output_type": "execute_result"
    }
   ],
   "source": [
    "np.arange(0, 5, 0.2)"
   ]
  },
  {
   "cell_type": "code",
   "execution_count": 43,
   "id": "b7836a65-1ddc-4c40-9bb0-17d91906efd5",
   "metadata": {},
   "outputs": [
    {
     "data": {
      "text/plain": [
       "array([0.  , 0.25, 0.5 , 0.75, 1.  ])"
      ]
     },
     "execution_count": 43,
     "metadata": {},
     "output_type": "execute_result"
    }
   ],
   "source": [
    "np.linspace(0,1,5)"
   ]
  },
  {
   "cell_type": "code",
   "execution_count": 48,
   "id": "d10e685a-0338-486e-bf12-74649dbeb207",
   "metadata": {},
   "outputs": [
    {
     "data": {
      "text/plain": [
       "array([[ 0,  1,  2,  3,  4],\n",
       "       [ 5,  6,  7,  8,  9],\n",
       "       [10, 11, 12, 13, 14],\n",
       "       [15, 16, 17, 18, 19]])"
      ]
     },
     "execution_count": 48,
     "metadata": {},
     "output_type": "execute_result"
    }
   ],
   "source": [
    "m_np = np.asarray(m)\n",
    "\n",
    "m_np"
   ]
  },
  {
   "cell_type": "markdown",
   "id": "9181d657-ca7f-44ba-b0df-31e1b8a9be60",
   "metadata": {},
   "source": [
    "### Поэлементные операции"
   ]
  },
  {
   "cell_type": "code",
   "execution_count": 49,
   "id": "eda426a2-e9e5-4f9a-b90e-709530e6983f",
   "metadata": {},
   "outputs": [
    {
     "data": {
      "text/plain": [
       "array([[10, 11, 12, 13, 14],\n",
       "       [15, 16, 17, 18, 19],\n",
       "       [20, 21, 22, 23, 24],\n",
       "       [25, 26, 27, 28, 29]])"
      ]
     },
     "execution_count": 49,
     "metadata": {},
     "output_type": "execute_result"
    }
   ],
   "source": [
    "m_np + 10"
   ]
  },
  {
   "cell_type": "code",
   "execution_count": 50,
   "id": "3c1a877a-4a68-48bd-b539-70dc8468298d",
   "metadata": {},
   "outputs": [
    {
     "data": {
      "text/plain": [
       "array([[  0,  10,  20,  30,  40],\n",
       "       [ 50,  60,  70,  80,  90],\n",
       "       [100, 110, 120, 130, 140],\n",
       "       [150, 160, 170, 180, 190]])"
      ]
     },
     "execution_count": 50,
     "metadata": {},
     "output_type": "execute_result"
    }
   ],
   "source": [
    "m_np * 10"
   ]
  },
  {
   "cell_type": "code",
   "execution_count": 51,
   "id": "386de144-c6d0-407b-bbe7-97a84277824a",
   "metadata": {},
   "outputs": [
    {
     "data": {
      "text/plain": [
       "array([[0. , 0.1, 0.2, 0.3, 0.4],\n",
       "       [0.5, 0.6, 0.7, 0.8, 0.9],\n",
       "       [1. , 1.1, 1.2, 1.3, 1.4],\n",
       "       [1.5, 1.6, 1.7, 1.8, 1.9]])"
      ]
     },
     "execution_count": 51,
     "metadata": {},
     "output_type": "execute_result"
    }
   ],
   "source": [
    "m_np / 10"
   ]
  },
  {
   "cell_type": "code",
   "execution_count": 52,
   "id": "b23958f6-6f85-449c-a7f6-669f59726538",
   "metadata": {},
   "outputs": [
    {
     "data": {
      "text/plain": [
       "array([[0, 0, 0, 0, 0],\n",
       "       [0, 0, 0, 0, 0],\n",
       "       [1, 1, 1, 1, 1],\n",
       "       [1, 1, 1, 1, 1]])"
      ]
     },
     "execution_count": 52,
     "metadata": {},
     "output_type": "execute_result"
    }
   ],
   "source": [
    "m_np // 10"
   ]
  },
  {
   "cell_type": "code",
   "execution_count": null,
   "id": "a852cd26-0a70-400a-b21c-50b3945168b8",
   "metadata": {},
   "outputs": [],
   "source": [
    "m_np ** 2"
   ]
  },
  {
   "cell_type": "code",
   "execution_count": null,
   "id": "2ee577a6-9cec-419d-bf16-957cc0ebd14f",
   "metadata": {},
   "outputs": [],
   "source": [
    "m_np >= 10"
   ]
  },
  {
   "cell_type": "markdown",
   "id": "bde5246c-1ebb-4dfa-b01e-e3d3c6a4aaaf",
   "metadata": {},
   "source": [
    "#### [Математические операции](https://numpy.org/doc/stable/reference/routines.math.html)"
   ]
  },
  {
   "cell_type": "code",
   "execution_count": 53,
   "id": "0dbe4f8c-2fa1-4912-b18b-d1e4e7c79945",
   "metadata": {},
   "outputs": [
    {
     "data": {
      "text/plain": [
       "array([[ 0.,  1.,  2.,  3.,  4.],\n",
       "       [ 5.,  6.,  7.,  8.,  9.],\n",
       "       [10., 11., 12., 13., 14.],\n",
       "       [15., 16., 17., 18., 19.]])"
      ]
     },
     "execution_count": 53,
     "metadata": {},
     "output_type": "execute_result"
    }
   ],
   "source": [
    "np.sqrt(m_np ** 2)"
   ]
  },
  {
   "cell_type": "code",
   "execution_count": 54,
   "id": "d7f77eec-205b-4464-85e0-371d4e2ff7dd",
   "metadata": {},
   "outputs": [
    {
     "data": {
      "text/plain": [
       "array([[ 0.        ,  0.84147098,  0.90929743,  0.14112001, -0.7568025 ],\n",
       "       [-0.95892427, -0.2794155 ,  0.6569866 ,  0.98935825,  0.41211849],\n",
       "       [-0.54402111, -0.99999021, -0.53657292,  0.42016704,  0.99060736],\n",
       "       [ 0.65028784, -0.28790332, -0.96139749, -0.75098725,  0.14987721]])"
      ]
     },
     "execution_count": 54,
     "metadata": {},
     "output_type": "execute_result"
    }
   ],
   "source": [
    "np.sin(m_np)"
   ]
  },
  {
   "cell_type": "markdown",
   "id": "2f5c2b80-320a-4f3a-b2b5-cdb4e7c1a912",
   "metadata": {},
   "source": [
    "- Теперь сравним скорость работы для функции получения стобца, а также транспонирования:"
   ]
  },
  {
   "cell_type": "code",
   "execution_count": null,
   "id": "9016c410-5c83-485b-8858-965c00faae72",
   "metadata": {},
   "outputs": [],
   "source": [
    "%%timeit\n",
    "\n",
    "m_np[:, 2]"
   ]
  },
  {
   "cell_type": "code",
   "execution_count": 55,
   "id": "52bd59ba-8139-495e-8212-2fbd075a9c06",
   "metadata": {},
   "outputs": [],
   "source": [
    "np_b = np.asarray(b)"
   ]
  },
  {
   "cell_type": "code",
   "execution_count": null,
   "id": "6aea5841-eff9-4f67-8c6b-901efc420e09",
   "metadata": {},
   "outputs": [],
   "source": [
    "%%timeit\n",
    "\n",
    "np.transpose(np_b) #np_b.T"
   ]
  },
  {
   "cell_type": "markdown",
   "id": "4cf8f54b-4d44-41c6-ba68-ea38013e6e3e",
   "metadata": {},
   "source": [
    "|столбец по индексу| time|\n",
    "|-----------------|---------|\n",
    "| python           | 171 ns  |\n",
    "| numpy           | 78.5 ns |\n",
    "\n",
    "\n",
    "|транспонирование| time|\n",
    "|-----------------|---------|\n",
    "| python           | 1.32 μs  |\n",
    "| numpy           | 241 ns |"
   ]
  },
  {
   "cell_type": "markdown",
   "id": "b91af526-af11-44a8-8aab-50cd8be75c8d",
   "metadata": {},
   "source": [
    "В основе массива `np.array` лежат обычные массивы фиксированного размера, они хранятся как один последовательный блок памяти."
   ]
  },
  {
   "cell_type": "code",
   "execution_count": null,
   "id": "d55bdc19-73b4-4260-9fce-170c7ffc154e",
   "metadata": {},
   "outputs": [],
   "source": [
    "m_np.data"
   ]
  },
  {
   "cell_type": "code",
   "execution_count": null,
   "id": "3d15a954-9e62-4afe-8d50-d9548a06bb5e",
   "metadata": {},
   "outputs": [],
   "source": [
    "m_np.dtype # по атрибуту dtype можно задать или посмотреть информацию о типе данных, хранимых в массиве"
   ]
  },
  {
   "cell_type": "code",
   "execution_count": null,
   "id": "ba35dd62-724c-4d5f-8b86-8eadc5659621",
   "metadata": {},
   "outputs": [],
   "source": [
    "m_np.dtype.itemsize"
   ]
  },
  {
   "cell_type": "code",
   "execution_count": null,
   "id": "809fc7d1-6fe7-43df-a9ee-8b83f320e70d",
   "metadata": {},
   "outputs": [],
   "source": [
    "# c помощью метода `astype` можно поменять тип данных\n",
    "m_np.astype(float).dtype"
   ]
  },
  {
   "cell_type": "code",
   "execution_count": 57,
   "id": "fc534d6b-0616-45f9-9080-eaea103acaba",
   "metadata": {},
   "outputs": [
    {
     "data": {
      "text/plain": [
       "array([[ 0,  1,  2,  3,  4],\n",
       "       [ 5,  6,  7,  8,  9],\n",
       "       [10, 11, 12, 13, 14],\n",
       "       [15, 16, 17, 18, 19]])"
      ]
     },
     "execution_count": 57,
     "metadata": {},
     "output_type": "execute_result"
    }
   ],
   "source": [
    "m_np"
   ]
  },
  {
   "cell_type": "markdown",
   "id": "fd58e946-4ffa-4527-ad5e-ccdeb4a577b7",
   "metadata": {},
   "source": [
    "### [Манипулирования массивами](https://numpy.org/doc/stable/reference/routines.array-manipulation.html)"
   ]
  },
  {
   "cell_type": "code",
   "execution_count": null,
   "id": "65bb5740-a4df-4382-abfe-15aadf5a463d",
   "metadata": {},
   "outputs": [],
   "source": [
    "# с помощью метода shape можно узнать текущий размер массива\n",
    "m_np.shape"
   ]
  },
  {
   "cell_type": "code",
   "execution_count": null,
   "id": "c39de8ee-b45b-4cc0-a56a-89834b860bdb",
   "metadata": {},
   "outputs": [],
   "source": [
    "# а с помощью метода reshape изменить размер\n",
    "m_np.reshape(5, 4)"
   ]
  },
  {
   "cell_type": "code",
   "execution_count": null,
   "id": "da670ec1-0e4c-432f-902c-3c2d8b8aacaf",
   "metadata": {},
   "outputs": [],
   "source": [
    "# также можно использовать значение параметра -1\n",
    "# тогда размер по этой оси будет вычислен автоматически\n",
    "m_np.reshape(-1, 2)"
   ]
  },
  {
   "cell_type": "code",
   "execution_count": 56,
   "id": "d87fc993-b7c6-4081-8203-b1fe083f10ef",
   "metadata": {},
   "outputs": [
    {
     "data": {
      "text/plain": [
       "array([ 0,  1,  2,  3,  4,  5,  6,  7,  8,  9, 10, 11, 12, 13, 14, 15, 16,\n",
       "       17, 18, 19])"
      ]
     },
     "execution_count": 56,
     "metadata": {},
     "output_type": "execute_result"
    }
   ],
   "source": [
    "# также можно вытянуть массив\n",
    "m_np.reshape(-1)"
   ]
  },
  {
   "cell_type": "code",
   "execution_count": 58,
   "id": "850114f1-33c4-451d-b9ac-832fe9b86a26",
   "metadata": {},
   "outputs": [
    {
     "data": {
      "text/plain": [
       "array([ 0,  1,  2,  3,  4,  5,  6,  7,  8,  9, 10, 11, 12, 13, 14, 15, 16,\n",
       "       17, 18, 19])"
      ]
     },
     "execution_count": 58,
     "metadata": {},
     "output_type": "execute_result"
    }
   ],
   "source": [
    "# несколькими способами\n",
    "m_np.ravel()"
   ]
  },
  {
   "cell_type": "markdown",
   "id": "aec466c2-b802-41c9-b6cf-198703f0b4df",
   "metadata": {},
   "source": [
    "В результате метода `reshape` возвращается новый объект, который имеет тот же атрибут `data`, что и исходный массив, то есть не происходит копирование данных."
   ]
  },
  {
   "cell_type": "markdown",
   "id": "b34d4a46-60bc-48e7-bde7-7eba5d2d25ea",
   "metadata": {},
   "source": [
    "#### *\n",
    "\n",
    "У `numpy.ndarray` есть атрибут `strides`, который регулирует порядок обхода массива (атрибут `data`). Этот атрибут очень важен для многомерных массивов.\n",
    "\n",
    "Рассмотрим простейший двумерный случай:"
   ]
  },
  {
   "cell_type": "code",
   "execution_count": null,
   "id": "c1fce150-8b04-4340-b53a-f25710fb1d82",
   "metadata": {},
   "outputs": [],
   "source": [
    "m_np.strides"
   ]
  },
  {
   "cell_type": "markdown",
   "id": "8bebc96e-7fa2-4163-ae8b-c5bdd96b929b",
   "metadata": {},
   "source": [
    "- Первое число показывает, сколько байт нужно прочитать, чтобы переместиться на следующую строку и остаться в том же столбце.\n",
    "\n",
    "- Второе число показывает, сколько байт нужно прочитать, чтобы переместиться на следующий столбец и остаться в той же строке."
   ]
  },
  {
   "cell_type": "code",
   "execution_count": null,
   "id": "fbd44df6-2d82-49b4-b91c-2d603cda0ae0",
   "metadata": {},
   "outputs": [],
   "source": [
    "assert m_np.strides == (m_np.dtype.itemsize * m_np.shape[1], np.dtype(int).itemsize)\n",
    "\n",
    "# чтобы перейти к следующей строке нужно прочитать size_of_one_element * num_of_element_in_a_row\n",
    "# чтобы перейти к следующему столбцу нужно прочитать size_of_one_element"
   ]
  },
  {
   "cell_type": "code",
   "execution_count": null,
   "id": "b02ff489-243d-4bfe-88e5-010b1090bdfa",
   "metadata": {},
   "outputs": [],
   "source": [
    "m_np.reshape(5, 4).strides"
   ]
  },
  {
   "cell_type": "markdown",
   "id": "bdb3385f-ed40-4489-9fa6-2f968a9f0dad",
   "metadata": {},
   "source": [
    "Так операции `transpose`, `reshape` не приводят к копированию данных, они меняют атрибут `strides`, который регулирует порядок обхода массива."
   ]
  },
  {
   "cell_type": "markdown",
   "id": "5d7ed9af-dcb3-41dd-9146-0d655b93bc82",
   "metadata": {},
   "source": [
    "### Бинарные операции\n",
    "\n",
    "- массивы одинакового размера"
   ]
  },
  {
   "cell_type": "code",
   "execution_count": null,
   "id": "fb99c809-ef5b-48b4-a6e1-ea220f280a6d",
   "metadata": {},
   "outputs": [],
   "source": [
    "a = np.ones((2, 5))\n",
    "a"
   ]
  },
  {
   "cell_type": "code",
   "execution_count": null,
   "id": "405c6ae1-1f13-46ba-b473-7568fbd52cb7",
   "metadata": {},
   "outputs": [],
   "source": [
    "b = np.arange(0, 10).reshape(2, 5)\n",
    "b"
   ]
  },
  {
   "cell_type": "code",
   "execution_count": null,
   "id": "0a7c52f2-6659-43e6-93ac-2caafd30bd5d",
   "metadata": {},
   "outputs": [],
   "source": [
    "a + b"
   ]
  },
  {
   "cell_type": "code",
   "execution_count": null,
   "id": "889b85b4-5be6-4540-becc-4501838abc71",
   "metadata": {},
   "outputs": [],
   "source": [
    "a * b"
   ]
  },
  {
   "cell_type": "code",
   "execution_count": null,
   "id": "99a0b78b-f681-4b07-b421-709c5178a730",
   "metadata": {},
   "outputs": [],
   "source": [
    "(b <= 5).astype(int)"
   ]
  },
  {
   "cell_type": "code",
   "execution_count": null,
   "id": "499fa2de-c00b-465c-8e39-4869501493ab",
   "metadata": {},
   "outputs": [],
   "source": [
    "b[a == (b <= 5).astype(int)]"
   ]
  },
  {
   "cell_type": "code",
   "execution_count": null,
   "id": "8e7433ce-7994-41bd-819b-6ae7ea777d94",
   "metadata": {},
   "outputs": [],
   "source": [
    "a @ b.T # np.matmul(a, b.T)"
   ]
  },
  {
   "cell_type": "code",
   "execution_count": null,
   "id": "b2073bea-111a-4632-a51e-017d672e0140",
   "metadata": {},
   "outputs": [],
   "source": [
    "np.dot(a, b.T) # a.dot(b.T)"
   ]
  },
  {
   "cell_type": "markdown",
   "id": "1aea7344-dc58-4f03-90ea-de15fb32dab5",
   "metadata": {},
   "source": [
    "[np.matmul vs np.dot](https://stackoverflow.com/a/34142617)"
   ]
  },
  {
   "cell_type": "markdown",
   "id": "0def3e13-124e-4868-aa9d-50e392c78849",
   "metadata": {},
   "source": [
    "### [Broadcasting](https://numpy.org/doc/stable/user/basics.broadcasting.html)\n",
    "\n",
    "Рассмотрим следующий случай: нам дана матрица $X$ размером $5 \\times 10$ и вектор $y$ длины 10, попробуем прибавить вектор $y$ к каждой строке матрицы $X$."
   ]
  },
  {
   "cell_type": "code",
   "execution_count": 59,
   "id": "be334fc8-a043-4013-86e1-c5ccda128a74",
   "metadata": {},
   "outputs": [
    {
     "data": {
      "text/plain": [
       "array([[ 0,  0, -5, -4, -4, -1,  1, -5, -3, -4],\n",
       "       [-4,  4, -3, -2, -2, -5, -3,  1, -4,  1],\n",
       "       [ 0, -2,  1,  3, -4, -3, -3, -2, -3,  0],\n",
       "       [ 3,  2,  0,  3,  3, -5, -4, -2,  1, -4],\n",
       "       [ 2,  0, -5,  3,  4,  4,  0,  0,  1,  1]])"
      ]
     },
     "execution_count": 59,
     "metadata": {},
     "output_type": "execute_result"
    }
   ],
   "source": [
    "X = np.random.randint(-5, 5, (5, 10))\n",
    "X"
   ]
  },
  {
   "cell_type": "code",
   "execution_count": null,
   "id": "90150e5e-0380-4216-998c-72250be217bb",
   "metadata": {},
   "outputs": [],
   "source": [
    "y = np.random.randint(-5, 5, 10)\n",
    "y"
   ]
  },
  {
   "cell_type": "code",
   "execution_count": null,
   "id": "aeec7e63-80ea-4d93-ada7-9f1ef03404d4",
   "metadata": {},
   "outputs": [],
   "source": [
    "X + y"
   ]
  },
  {
   "cell_type": "code",
   "execution_count": null,
   "id": "1184c5e8-9c0c-4535-8750-3466cac6b533",
   "metadata": {},
   "outputs": [],
   "source": [
    "y_ = np.random.randint(-5, 5, 5)\n",
    "y_"
   ]
  },
  {
   "cell_type": "code",
   "execution_count": null,
   "id": "83a88bd1-fe65-43ff-a9a6-45bcbe356662",
   "metadata": {},
   "outputs": [],
   "source": [
    "X + y_"
   ]
  },
  {
   "cell_type": "markdown",
   "id": "351c3f82-2437-417b-934d-9c99aeff9b95",
   "metadata": {},
   "source": [
    "- Воспользуемся приведением размерности\n",
    "\n",
    "- Фиктивная размерность – размерность длины 1. Фиктивная размерность нужна для того, чтобы совершать матричные операции, например, умножение вектора на матрицу."
   ]
  },
  {
   "cell_type": "code",
   "execution_count": null,
   "id": "45582b4d-4cdf-4eb4-b73d-25cf1ff451d6",
   "metadata": {},
   "outputs": [],
   "source": [
    "y_[:,np.newaxis]"
   ]
  },
  {
   "cell_type": "code",
   "execution_count": null,
   "id": "861d8afc-8652-4ab9-a946-8232595a577f",
   "metadata": {},
   "outputs": [],
   "source": [
    "X + y_[:,np.newaxis]"
   ]
  },
  {
   "cell_type": "markdown",
   "id": "ec896645-a961-4e36-b777-d9bcb057f68f",
   "metadata": {},
   "source": [
    "#### [Правило приведения размерностей](https://numpy.org/doc/stable/user/basics.broadcasting.html#general-broadcasting-rules)\n",
    "\n",
    "1. Предположим, что `a.shape = (a_1, a_2, ..., a_n)` и `b.shape = (b_1, b_2, ..., b_n)`. Над `a` и `b` можно произвести поэлементую бинарную операцию, если $\\forall \\; i \\in \\overline{1..n}$ выполнено хотя бы одно из условий:\n",
    "    * $a_i == b_i$\n",
    "    * $a_i == 1$\n",
    "    * $b_i == 1$\n",
    "\n",
    "\n",
    "2. Если размерности не совпадают, то к массиву меньшей размерности добавляются ведущие фиктивные размерности. "
   ]
  },
  {
   "cell_type": "markdown",
   "id": "c4f113b8-9af1-47a7-b661-63d9179f8627",
   "metadata": {},
   "source": [
    "**Задача 3.** \n",
    "\n",
    "Какие из этих команд будут выполняться с ошибкой?\n",
    "\n",
    "1. `np.ones((2, 3)) + np.ones(3)`\n",
    "\n",
    "2. `np.ones(2) + np.ones((2, 3))`\n",
    "\n",
    "3. `np.zeros((4, 3)) + np.ones((4, 1))`\n",
    "\n",
    "4. `np.zeros((3, 4)) + np.ones((4, 3))`\n",
    "\n",
    "5. `np.zeros((1, 3, 5)) + np.zeros((1, 3))` \n",
    "\n",
    "6. `np.zeros((5, 3, 1)) + np.zeros((1, 5))`"
   ]
  },
  {
   "cell_type": "markdown",
   "id": "9b56f832-81f1-4dbf-b48f-85fe97aa1e18",
   "metadata": {},
   "source": [
    "**Задача 4.** \n",
    "\n",
    "Таблица умножения. Создайте массив $9 \\times 9$, элементы которого являются произведениями индексов столбца и строки. Индексы нумеруются с 1."
   ]
  },
  {
   "cell_type": "code",
   "execution_count": null,
   "id": "223ebaf8-c9c9-4da5-aa9d-7736a4d5262a",
   "metadata": {},
   "outputs": [],
   "source": [
    "#############################\n",
    "### ╰( ͡° ͜ʖ ͡° )つ──────☆*:・ﾟ\n",
    "#############################\n",
    "\n",
    "mult_table = None"
   ]
  },
  {
   "cell_type": "code",
   "execution_count": null,
   "id": "20d2d263-248c-43df-a23a-2ca8ceae8762",
   "metadata": {},
   "outputs": [],
   "source": [
    "assert mult_table.shape == (9, 9)\n",
    "\n",
    "for i in range(mult_table.shape[0]):\n",
    "    for j in range(mult_table.shape[0]):\n",
    "        assert mult_table[i, j] == (i + 1) * (j + 1)"
   ]
  },
  {
   "cell_type": "markdown",
   "id": "f109a265-716f-4f73-b344-7f07c982c6ea",
   "metadata": {},
   "source": [
    "**Задача 5.** \n",
    "\n",
    "Даны матрицы $A$ размера $(n \\times d)$ и $B$ размера $(m \\times d)$. Напишите функцию `find_equal_lines(A, B)`, которая найдет в A все строки, содержащиеся в B. Не используйте циклы!"
   ]
  },
  {
   "cell_type": "code",
   "execution_count": null,
   "id": "e77e2ceb-df26-4a1d-bd04-b66d34f1a94f",
   "metadata": {},
   "outputs": [],
   "source": [
    "A = np.array([\n",
    "    [1, 2, 3],\n",
    "    [1, 2, 1],\n",
    "    [4, 5, 6],\n",
    "    [1, 2, 1],\n",
    "])\n",
    "\n",
    "B = np.array([\n",
    "    [4, 5, 6],\n",
    "    [4, 5, 6],\n",
    "    [1, 2, 3],\n",
    "])"
   ]
  },
  {
   "cell_type": "code",
   "execution_count": null,
   "id": "55f4a484-ecfd-417e-ab67-c27200ee1f84",
   "metadata": {},
   "outputs": [],
   "source": [
    "def find_equal_lines(A, B):\n",
    "    #############################\n",
    "    ### ╰( ͡° ͜ʖ ͡° )つ──────☆*:・ﾟ\n",
    "    #############################\n",
    "    pass"
   ]
  },
  {
   "cell_type": "code",
   "execution_count": null,
   "id": "c09c745e-ffc4-4393-a13a-29789c539c12",
   "metadata": {},
   "outputs": [],
   "source": [
    "indices = find_equal_lines(A, B)\n",
    "\n",
    "assert (indices == [0, 2]).all()"
   ]
  },
  {
   "cell_type": "markdown",
   "id": "bc6c2244-ec45-44c7-8c72-2d1b09ba8d69",
   "metadata": {},
   "source": [
    "### Агрегирующие операции"
   ]
  },
  {
   "cell_type": "code",
   "execution_count": null,
   "id": "74fd093d-3607-47ec-aab1-4b051b9e0f59",
   "metadata": {},
   "outputs": [],
   "source": [
    "np.random.seed(5555)\n",
    "\n",
    "a = np.random.randint(0, 10, size=(3, 7))\n",
    "a[1, 3] = 15\n",
    "\n",
    "a"
   ]
  },
  {
   "cell_type": "markdown",
   "id": "ffe9a434-1152-400e-a383-a7684fd9a7b7",
   "metadata": {},
   "source": [
    "Для `numpy.ndarray` есть поддержка аггрегирующих операций: `min`, `max`, `argmin`, `argmax`, `sum`, `prod`, `mean`, `std`, `var` и др."
   ]
  },
  {
   "cell_type": "code",
   "execution_count": null,
   "id": "b09f5b65-e0ad-4bd5-b6c3-a15990c3c07d",
   "metadata": {},
   "outputs": [],
   "source": [
    "a.min(), a.max(), a.sum(), a.prod(), a.mean()"
   ]
  },
  {
   "cell_type": "code",
   "execution_count": null,
   "id": "8d94d054-ca74-4d9b-abf4-add8ca18d74a",
   "metadata": {},
   "outputs": [],
   "source": [
    "np.min(a), np.max(a), np.sum(a), np.prod(a), np.mean(a)"
   ]
  },
  {
   "cell_type": "markdown",
   "id": "0ad13924-0e1e-4f5d-9535-851d02cc01a2",
   "metadata": {},
   "source": [
    "<img src=\"./src/axis.png\" width=\"350px\">\n",
    "\n",
    "`a.agg(axis=axis)` – агрегирующая операция вдоль размерности (оси) `axis`:\n",
    "* выполняет редукцию (агрегирующую операцию) по размерности (оси) `axis`;\n",
    "* удаляет размерности (ось) `axis` из исходного массива (аргумент `keep_dims=False`).\n",
    "\n",
    "`axis=0` – размерность строк, `axis=1` – размерность столбцов."
   ]
  },
  {
   "cell_type": "code",
   "execution_count": null,
   "id": "986a5890-1127-4cae-8229-1b094e252db8",
   "metadata": {},
   "outputs": [],
   "source": [
    "a.min(axis=0)"
   ]
  },
  {
   "cell_type": "code",
   "execution_count": null,
   "id": "ad377ddd-8329-4168-9b76-67ee5fe5b3f8",
   "metadata": {},
   "outputs": [],
   "source": [
    "a.sum(axis=1)"
   ]
  },
  {
   "cell_type": "markdown",
   "id": "c837e162-85d1-4169-a835-01f7ab26a39f",
   "metadata": {},
   "source": [
    "### [Индексация](https://numpy.org/doc/stable/user/basics.indexing.html)"
   ]
  },
  {
   "cell_type": "code",
   "execution_count": null,
   "id": "d55b3ddf-08c6-4df5-af13-dd943e2b7623",
   "metadata": {},
   "outputs": [],
   "source": [
    "a = np.arange(12).reshape(3, -1)\n",
    "a"
   ]
  },
  {
   "cell_type": "markdown",
   "id": "5dd23922-5642-4993-af03-50eff7e5a8cb",
   "metadata": {},
   "source": [
    "`numpy.ndarray` поддерживает все те же способы индексации, что и обычный список. Сначала указываются строки, затем столбцы. При индексации исключительно по строкам, индексацию по столбцам можно опустить."
   ]
  },
  {
   "cell_type": "code",
   "execution_count": null,
   "id": "3d399301-8c6b-40f2-83c9-ac326633ff70",
   "metadata": {},
   "outputs": [],
   "source": [
    "a[0]  # a[0,:]"
   ]
  },
  {
   "cell_type": "code",
   "execution_count": null,
   "id": "971bd988-dba7-4a62-9f08-4f306ca81e38",
   "metadata": {},
   "outputs": [],
   "source": [
    "a[:2]  # a[:2, :]"
   ]
  },
  {
   "cell_type": "code",
   "execution_count": null,
   "id": "029e13ef-76df-4f20-8496-4ad6546a442f",
   "metadata": {},
   "outputs": [],
   "source": [
    "a[:, 0]  # и здесь тоже исчезла фиктивная размерность"
   ]
  },
  {
   "cell_type": "code",
   "execution_count": null,
   "id": "9c15c918-2e59-4fb1-a767-e94f3098871a",
   "metadata": {},
   "outputs": [],
   "source": [
    "a[:2, ::2]"
   ]
  },
  {
   "cell_type": "markdown",
   "id": "1d27f664-1c57-414b-8fef-e0e2be8f9f81",
   "metadata": {},
   "source": [
    "Булевы массивы также можно использовать для индексации. Такие массивы называются масками."
   ]
  },
  {
   "cell_type": "code",
   "execution_count": null,
   "id": "c15af789-d0e1-4483-9c87-731606994c2b",
   "metadata": {},
   "outputs": [],
   "source": [
    "np.random.seed(7964)\n",
    "\n",
    "A = np.random.randint(0, 8, size=(5, 5))\n",
    "A[2, 3] = 10\n",
    "A"
   ]
  },
  {
   "cell_type": "code",
   "execution_count": null,
   "id": "ff039e22-7ca9-4529-bb36-ffe005ec6eaf",
   "metadata": {},
   "outputs": [],
   "source": [
    "A[A < 4]"
   ]
  },
  {
   "cell_type": "code",
   "execution_count": null,
   "id": "20b89c48-e3a7-412a-89b7-b98cd87eeaa2",
   "metadata": {},
   "outputs": [],
   "source": [
    "A[A[:,0] < 3,:]"
   ]
  },
  {
   "cell_type": "markdown",
   "id": "eedeb4ad-1093-47df-8bce-5993b77686c3",
   "metadata": {},
   "source": [
    "**Задача 7.** \n",
    "\n",
    "Дана матрица $B$ размера $(5 \\times 5)$. Получите столбцы, в которых число положительных элементов больше числа отрицательных. Результат сохраните в переменную `B_masked`. Используйте индексацию с использованием булевых массивов."
   ]
  },
  {
   "cell_type": "code",
   "execution_count": null,
   "id": "3a924d94-28b5-4b2b-9c3b-cafd670ed71f",
   "metadata": {},
   "outputs": [],
   "source": [
    "np.random.seed(2238)\n",
    "\n",
    "B = np.random.randint(-5, 5, size=(5, 5))\n",
    "B"
   ]
  },
  {
   "cell_type": "code",
   "execution_count": null,
   "id": "4c0b6b0b-7f03-44b5-844b-97a0a7c4f207",
   "metadata": {},
   "outputs": [],
   "source": [
    "#############################\n",
    "### ╰( ͡° ͜ʖ ͡° )つ──────☆*:・ﾟ\n",
    "#############################\n",
    "\n",
    "B_masked = # your code here"
   ]
  },
  {
   "cell_type": "code",
   "execution_count": null,
   "id": "a7c35138-14ed-403b-b949-8de8c94f34ae",
   "metadata": {},
   "outputs": [],
   "source": [
    "assert (B_masked == B[:, [0, 1, -1]]).all()"
   ]
  },
  {
   "cell_type": "markdown",
   "id": "34dd976a-824e-44bd-aa12-46ded169fdc0",
   "metadata": {},
   "source": [
    "Для получения индексов, где выполнено условие (значение истино) используеттся функция `np.where`. Результат этой функции можно использовать для индексации."
   ]
  },
  {
   "cell_type": "code",
   "execution_count": null,
   "id": "1fddd7da-bf2d-437e-9e6d-0c9f14afde01",
   "metadata": {},
   "outputs": [],
   "source": [
    "np.where(A < 4)"
   ]
  },
  {
   "cell_type": "code",
   "execution_count": null,
   "id": "4f2ad11d-fa6d-493e-85a8-2361a5882e16",
   "metadata": {},
   "outputs": [],
   "source": [
    "A[np.where(A < 4)]"
   ]
  },
  {
   "cell_type": "markdown",
   "id": "3c7f9531-830f-4320-8133-f0dd4d61b69c",
   "metadata": {},
   "source": [
    "## [Pandas](https://pandas.pydata.org/docs/getting_started/overview.html)\n",
    "\n",
    "- основная библиотека для работы с табличными данными\n",
    "\n",
    "- Основными сущностями в `pandas`, с которыми нам придется работать – [`pandas.Series`](https://pandas.pydata.org/pandas-docs/stable/reference/api/pandas.Series.html) и [`pandas.DataFrame`](https://pandas.pydata.org/pandas-docs/stable/reference/api/pandas.DataFrame.html)"
   ]
  },
  {
   "cell_type": "markdown",
   "id": "4ebaca1b-66d7-4671-a81a-f317832b3777",
   "metadata": {},
   "source": [
    "### [pandas.Series](https://pandas.pydata.org/pandas-docs/stable/reference/api/pandas.Series.html)"
   ]
  },
  {
   "cell_type": "markdown",
   "id": "fa791fc8-36b0-49a1-9099-68fce9bcd8ec",
   "metadata": {},
   "source": [
    "- `pd.Series` – одномерный массив специального вида (смесь обычного массива и ассоциативного массива), аналог столбца и строчки в таблице."
   ]
  },
  {
   "cell_type": "code",
   "execution_count": null,
   "id": "74b69091-9678-4b9a-80a6-f95eea584764",
   "metadata": {},
   "outputs": [],
   "source": [
    "np.random.seed(9872)\n",
    "\n",
    "num = 10\n",
    "data = np.random.randint(0, 5, size=(num, ))\n",
    "data"
   ]
  },
  {
   "cell_type": "code",
   "execution_count": null,
   "id": "19f7a7c4-f679-4bd2-8afe-6fc395cf33b7",
   "metadata": {},
   "outputs": [],
   "source": [
    "import pandas as pd\n",
    "\n",
    "s = pd.Series(data)\n",
    "s"
   ]
  },
  {
   "cell_type": "markdown",
   "id": "24c8db53-c821-4de6-9c46-dd6d7d4e0d4f",
   "metadata": {},
   "source": [
    "Как и `np.ndarray` у `pd.Series` есть атрибут `shape`, отвечающий за размер массива."
   ]
  },
  {
   "cell_type": "code",
   "execution_count": null,
   "id": "26d04e24-c331-4940-b66f-07f5f6586cd7",
   "metadata": {},
   "outputs": [],
   "source": [
    "s.shape # "
   ]
  },
  {
   "cell_type": "code",
   "execution_count": null,
   "id": "f530069b-34de-48be-a027-8c7746b73ccb",
   "metadata": {},
   "outputs": [],
   "source": [
    "s.index # Набор меток (ключей) связанных с pd.Series называется индексом."
   ]
  },
  {
   "cell_type": "markdown",
   "id": "c83d56c0-06ae-4eac-97ba-3c462c458284",
   "metadata": {},
   "source": [
    "Под `pd.Series` скрывается `np.ndarray`. Чтобы получить прямой доступ к данным, нужно обратиться к атрибуту `values`."
   ]
  },
  {
   "cell_type": "code",
   "execution_count": null,
   "id": "e6db273d-5e37-4963-8a3f-c24c659d498b",
   "metadata": {},
   "outputs": [],
   "source": [
    "s.values"
   ]
  },
  {
   "cell_type": "markdown",
   "id": "b08afce2-13da-41ec-b0e1-38ad9e0f9693",
   "metadata": {},
   "source": [
    "`pd.Series` с заданным индексом можно задать несколькими способами:"
   ]
  },
  {
   "cell_type": "code",
   "execution_count": null,
   "id": "afc52493-505e-41db-8e5e-2cac93b51787",
   "metadata": {},
   "outputs": [],
   "source": [
    "# указать значения и соответсвующие индексы\n",
    "s = pd.Series([5, 6, 7, 8, 9, 10], index=['a', 'b', 'c', 'd', 'e', 'f'])\n",
    "s"
   ]
  },
  {
   "cell_type": "code",
   "execution_count": null,
   "id": "32873513-a24f-4f17-b49a-a6ff8679a80b",
   "metadata": {},
   "outputs": [],
   "source": [
    "# создать из словаря\n",
    "s = pd.Series({'a': 5, 'b': 6, 'c': 7, 'd': 8, 'e': 9, 'f': 10})\n",
    "s"
   ]
  },
  {
   "cell_type": "code",
   "execution_count": null,
   "id": "12bad61e-04a7-4811-8f90-8aad0f72c38e",
   "metadata": {},
   "outputs": [],
   "source": [
    "s['a'] # обращение по индексу"
   ]
  },
  {
   "cell_type": "markdown",
   "id": "d8367b0f-cc58-49bf-b44a-424d96256739",
   "metadata": {},
   "source": [
    "`pd.Series` умеет выполнять операции со скалярами и агрегатные операции"
   ]
  },
  {
   "cell_type": "code",
   "execution_count": null,
   "id": "ff7068cb-7159-4140-802f-3738d1c6ce35",
   "metadata": {},
   "outputs": [],
   "source": [
    "s + 10"
   ]
  },
  {
   "cell_type": "code",
   "execution_count": null,
   "id": "afafbcb3-7af8-48c9-8ac6-d00a2bce1042",
   "metadata": {},
   "outputs": [],
   "source": [
    "s.min(), s.max(), s.sum(), s.mean()"
   ]
  },
  {
   "cell_type": "markdown",
   "id": "852382c9-3099-4d4c-b4c8-3d24529aaace",
   "metadata": {},
   "source": [
    "### [pandas.DataFrame](https://pandas.pydata.org/pandas-docs/stable/reference/api/pandas.DataFrame.html)"
   ]
  },
  {
   "cell_type": "markdown",
   "id": "8608ece4-7b9d-4bbf-b1c7-0466e804e316",
   "metadata": {},
   "source": [
    "Объект `pd.DataFrame` лучше всего представлять себе в виде обычной таблицы. Столбцами в объекте `pd.DataFrame` выступают объекты `pd.Series`, строки которых являются их непосредственными элементами.\n",
    "\n",
    "Для создания датафрейма руками есть два удобных способа. Первый – передать словарь вида `column_name: [column_values]`."
   ]
  },
  {
   "cell_type": "code",
   "execution_count": null,
   "id": "5712abba-c667-40ee-aa27-2fe4184d945a",
   "metadata": {},
   "outputs": [],
   "source": [
    "data = {\n",
    "    'index': ['KZ', 'RU', 'BY', 'UA'],\n",
    "    'country': ['Kazakhstan', 'Russia', 'Belarus', 'Ukraine'],\n",
    "    'population': [18.04, 144.5, 9.5, 45.5],\n",
    "    'square': [2724902, 17125191, 207600, 603628]\n",
    "}\n",
    "\n",
    "df = pd.DataFrame(data)\n",
    "df"
   ]
  },
  {
   "cell_type": "code",
   "execution_count": null,
   "id": "68df50d2-6af4-4356-831a-0900d5cb5390",
   "metadata": {},
   "outputs": [],
   "source": [
    "# второй - со словарем следующего вида\n",
    "data = [\n",
    "    { 'index': 'KZ', 'country': 'Kazakhstan', 'population': 18.04, 'square':  2724902 },\n",
    "    { 'index': 'RU', 'country': 'Russia',     'population': 144.5, 'square': 17125191 },\n",
    "    { 'index': 'BY', 'country': 'Belarus',    'population':   9.5, 'square':   207600 },\n",
    "    { 'index': 'UA', 'country': 'Ukraine',    'population':  45.5, 'square':   603628 },\n",
    "]\n",
    "\n",
    "df = pd.DataFrame(data)\n",
    "df"
   ]
  },
  {
   "cell_type": "code",
   "execution_count": null,
   "id": "47ff3011-7b89-4957-8a81-60f20205b83e",
   "metadata": {},
   "outputs": [],
   "source": [
    "# установим индекс у таблицы\n",
    "df.set_index('index', inplace=True)\n",
    "df.head()"
   ]
  },
  {
   "cell_type": "code",
   "execution_count": null,
   "id": "1630f7d6-887e-4789-9571-c790d3ab7bef",
   "metadata": {},
   "outputs": [],
   "source": [
    "# изучение столбца\n",
    "df['population']"
   ]
  },
  {
   "cell_type": "markdown",
   "id": "bc749410-6ade-407d-af23-34e650b3e374",
   "metadata": {},
   "source": [
    "`pd.DataFrame` можно индексировать по имени и по позиции"
   ]
  },
  {
   "cell_type": "code",
   "execution_count": null,
   "id": "3728416a-a48e-4950-875b-8366a8a0e750",
   "metadata": {},
   "outputs": [],
   "source": [
    "df.loc['KZ'] # индексация по имени "
   ]
  },
  {
   "cell_type": "code",
   "execution_count": null,
   "id": "b83edd0d-e8b0-4fa7-b3ca-3642d0adc4b0",
   "metadata": {},
   "outputs": [],
   "source": [
    "df.iloc[3] # индексация по позиции"
   ]
  },
  {
   "cell_type": "code",
   "execution_count": null,
   "id": "13340b90-e5d8-476d-b875-1e2fb10689ad",
   "metadata": {},
   "outputs": [],
   "source": [
    "# сложная индексация\n",
    "df.iloc[[2, 3], 1]"
   ]
  },
  {
   "cell_type": "code",
   "execution_count": null,
   "id": "8df19220-4cbd-42df-a642-d1930d2e2992",
   "metadata": {},
   "outputs": [],
   "source": [
    "# сложная индексация\n",
    "df.loc[[\"KZ\", \"RU\"], \"population\",]"
   ]
  },
  {
   "cell_type": "markdown",
   "id": "90eaaa3d-d524-4b14-9339-ee505ee967bd",
   "metadata": {},
   "source": [
    "C помощью индексации можно моделировать сложные запросы"
   ]
  },
  {
   "cell_type": "code",
   "execution_count": null,
   "id": "d0985b74-e456-447d-a850-6042b72c3a44",
   "metadata": {},
   "outputs": [],
   "source": [
    "df.loc[df['population'] > 10, ['country', 'square']]"
   ]
  },
  {
   "cell_type": "code",
   "execution_count": null,
   "id": "35a7d13b-ebc9-4a35-8b46-50f5167fa7fb",
   "metadata": {},
   "outputs": [],
   "source": [
    "df.loc[(df.square > 70000) & (df.country == 'Russia'), ['country','square']]"
   ]
  },
  {
   "cell_type": "code",
   "execution_count": null,
   "id": "29d49358-af08-45f4-b532-81a741d566c6",
   "metadata": {},
   "outputs": [],
   "source": [
    "# на ходу можно создавать дополнительные столбцы\n",
    "df['density'] = df[\"population\"] / df[\"square\"] * 1_000_000\n",
    "df"
   ]
  },
  {
   "cell_type": "code",
   "execution_count": null,
   "id": "45f7a780-dd15-4aa4-9cc3-f0084e6e7d14",
   "metadata": {},
   "outputs": [],
   "source": [
    "# также столбцы можно удалять\n",
    "df.drop(['density'], axis=1, inplace=True)\n",
    "df"
   ]
  },
  {
   "cell_type": "markdown",
   "id": "31771123-7fe8-4184-ae1d-1de5b1ed70d4",
   "metadata": {},
   "source": [
    "Также `pd.DataFrame` поддерживает аггрегатные функции."
   ]
  },
  {
   "cell_type": "code",
   "execution_count": null,
   "id": "72aeee68-69d9-4626-ae03-41c3a13923af",
   "metadata": {},
   "outputs": [],
   "source": [
    "df[['population', 'square']].min()"
   ]
  },
  {
   "cell_type": "code",
   "execution_count": null,
   "id": "a3c23756-ca3d-4f45-8bfc-556e6f4bdbf2",
   "metadata": {},
   "outputs": [],
   "source": [
    "df.nsmallest(3, 'square')"
   ]
  },
  {
   "cell_type": "markdown",
   "id": "31adb322-26ce-4312-abbf-352410aebcab",
   "metadata": {},
   "source": [
    "### Пример\n",
    "\n",
    "- считаем данные в формате `csv`\n",
    "- c полным списком поддерживаемах форматов можно ознакомиться по [ссылке](https://pandas.pydata.org/pandas-docs/stable/reference/io.html)"
   ]
  },
  {
   "cell_type": "code",
   "execution_count": null,
   "id": "4f1350c4-0f90-4eaa-ac23-c463f13dae1d",
   "metadata": {},
   "outputs": [],
   "source": [
    "df = pd.read_csv('src/cars_info.csv', sep=',')\n",
    "df.head()"
   ]
  },
  {
   "cell_type": "markdown",
   "id": "5a960147-9779-4942-bd05-bca289e91a25",
   "metadata": {},
   "source": [
    "- Изучим основным параметры датасета:"
   ]
  },
  {
   "cell_type": "code",
   "execution_count": null,
   "id": "e656d28d-2769-4819-b386-adb80d9ec11c",
   "metadata": {},
   "outputs": [],
   "source": [
    "df.shape"
   ]
  },
  {
   "cell_type": "code",
   "execution_count": null,
   "id": "71f59b8b-c53d-4b67-abc4-66eb682c7f09",
   "metadata": {},
   "outputs": [],
   "source": [
    "df.describe()"
   ]
  },
  {
   "cell_type": "code",
   "execution_count": null,
   "id": "3b5a23f3-5258-43f2-b312-4a4dd6288af0",
   "metadata": {},
   "outputs": [],
   "source": [
    "df.describe(include=['object'])"
   ]
  },
  {
   "cell_type": "code",
   "execution_count": null,
   "id": "2b930821-bd4a-4875-9653-58262471efbf",
   "metadata": {},
   "outputs": [],
   "source": [
    "df[\"Origin\"].unique()"
   ]
  },
  {
   "cell_type": "code",
   "execution_count": null,
   "id": "4b2fd8e6-a953-42cb-9dd0-16c7d85b5f00",
   "metadata": {},
   "outputs": [],
   "source": [
    "df.isna().sum(axis=0)"
   ]
  },
  {
   "cell_type": "code",
   "execution_count": null,
   "id": "cfeb4a72-730f-4d9a-b4a9-aebf03812b82",
   "metadata": {},
   "outputs": [],
   "source": [
    "df.drop_duplicates(subset=['Model']).shape"
   ]
  },
  {
   "cell_type": "markdown",
   "id": "f7002f21-d293-4d7a-a88a-e8b90573f86f",
   "metadata": {},
   "source": [
    "Категории – отдельный тип данных в `pandas`, которому стоит уделить внимание, так как он позволяет более эффективно работать с категориальными признаками. Выделим группу категориальных признаков.\n",
    "\n",
    "Плюсы использования типа категорий:\n",
    "* позволяют более эффективно обрабатывать категориальные признаки (внутри просто `int`);\n",
    "* многие питоновские библиотеки имеют встроенные методы по работе с категориальными признаками;\n",
    "* такие признаки занимают меньше места, что также положительно сказываются на производительности.\n",
    "\n",
    "Подробнее о возможностях работы с категориальными признаками:\n",
    "\n",
    "https://pandas.pydata.org/pandas-docs/stable/user_guide/categorical.html"
   ]
  },
  {
   "cell_type": "code",
   "execution_count": null,
   "id": "738ba3e4-50f8-45b1-8a21-68c05fb67935",
   "metadata": {
    "scrolled": true
   },
   "outputs": [],
   "source": [
    "df.info()"
   ]
  },
  {
   "cell_type": "code",
   "execution_count": null,
   "id": "2cf8447c-378a-4032-9f64-adcf9197938e",
   "metadata": {},
   "outputs": [],
   "source": [
    "df[['Make', 'Type', 'Origin', 'DriveTrain']] = \\\n",
    "    df[['Make', 'Type', 'Origin', 'DriveTrain']].astype('category')"
   ]
  },
  {
   "cell_type": "markdown",
   "id": "8df24b53-376c-439a-b4b0-78525ed16ce1",
   "metadata": {},
   "source": [
    "Совместное распределение между признаками можно исследовать с помощью сводных таблиц."
   ]
  },
  {
   "cell_type": "code",
   "execution_count": null,
   "id": "ec06f666-1051-445a-b509-f40f68251a4a",
   "metadata": {},
   "outputs": [],
   "source": [
    "pd.crosstab(df['Origin'], df['Type'])"
   ]
  },
  {
   "cell_type": "code",
   "execution_count": null,
   "id": "dc62825a-c139-490d-88b2-81102a2ed189",
   "metadata": {},
   "outputs": [],
   "source": [
    "pd.crosstab(df['Origin'], df['Type'], normalize=True)"
   ]
  },
  {
   "cell_type": "code",
   "execution_count": null,
   "id": "3a590d0f-9c69-4774-a8ca-49a8b89cbc1f",
   "metadata": {},
   "outputs": [],
   "source": [
    "import matplotlib.pyplot as plt\n",
    "import seaborn as sns\n",
    "\n",
    "plt.figure(figsize=(8, 3))\n",
    "sns.heatmap(pd.crosstab(df['Origin'], df['Type']), cmap=\"jet\", annot=False, cbar=True)\n",
    "plt.show()"
   ]
  },
  {
   "cell_type": "code",
   "execution_count": null,
   "id": "86b52353-3dc6-4a56-b771-3d1af0e5a6d3",
   "metadata": {},
   "outputs": [],
   "source": [
    "_ = sns.pairplot(vars=[\"Horsepower\", \"MPG_City\", \"MPG_Highway\"], data=df, hue=\"Type\", height=5)"
   ]
  },
  {
   "cell_type": "markdown",
   "id": "bcac7027-5883-4658-aa53-bcae7bd11c69",
   "metadata": {},
   "source": [
    "Метод `groupby` один из самых распространенных и полезных методов `pd.DataFrame` является аналогом `GROUP BY` в `SQL`, и используется для подсчета агрегированных статистик внутри групп."
   ]
  },
  {
   "cell_type": "markdown",
   "id": "7f8a90d6-c60e-4eb0-8730-c6bdf6bd13f3",
   "metadata": {},
   "source": [
    "Посчитаем среднюю длину автомобиля в группах вида `(страна производства; тип)`. Обратите внимание на вовзращаемый тип."
   ]
  },
  {
   "cell_type": "code",
   "execution_count": null,
   "id": "bf40583e-c673-4a7a-94d4-be5835c51f79",
   "metadata": {},
   "outputs": [],
   "source": [
    "df.groupby(by=[\"Origin\", \"Type\"], observed=True)[\"Length\"].mean()"
   ]
  },
  {
   "cell_type": "code",
   "execution_count": null,
   "id": "170e1152-e898-4bc0-8619-26a37ec3d018",
   "metadata": {},
   "outputs": [],
   "source": [
    "df.groupby(by=[\"Origin\", \"Type\"], observed=True)[\"Length\"].mean().reset_index()"
   ]
  },
  {
   "cell_type": "code",
   "execution_count": null,
   "id": "10462004-9d51-43cc-a304-047b19781161",
   "metadata": {},
   "outputs": [],
   "source": [
    "# Можно считать группу статистик одновременно\n",
    "df.groupby(by=[\"Origin\", \"Type\"], observed=True)[\"Length\"].agg([\"mean\", \"std\", \"max\", \"min\", 'count'])"
   ]
  },
  {
   "cell_type": "markdown",
   "id": "a21a9272-870e-40df-816d-53f6560d4b76",
   "metadata": {},
   "source": [
    "**Задача 8.** \n",
    "\n",
    "Выведите топ-3 дорогих автомобилей ( `Invoice` ) каждого типа `Type`."
   ]
  },
  {
   "cell_type": "code",
   "execution_count": null,
   "id": "59d06080-25f5-4163-a158-f4dd590bbd6d",
   "metadata": {},
   "outputs": [],
   "source": [
    "#############################\n",
    "### ╰( ͡° ͜ʖ ͡° )つ──────☆*:・ﾟ\n",
    "#############################"
   ]
  },
  {
   "cell_type": "markdown",
   "id": "13d59c12-59b0-4a98-87e6-54f6db865c65",
   "metadata": {},
   "source": [
    "**Задача 9.**\n",
    "\n",
    "Выведите среднее число лошадиных сил для автомобилей, у которых число цилиндров больше 9, по каждой из стран производителей."
   ]
  },
  {
   "cell_type": "code",
   "execution_count": null,
   "id": "4248a4b2-e298-4c88-8c0e-6219f13ddb0f",
   "metadata": {},
   "outputs": [],
   "source": [
    "#############################\n",
    "### ╰( ͡° ͜ʖ ͡° )つ──────☆*:・ﾟ\n",
    "#############################"
   ]
  },
  {
   "cell_type": "markdown",
   "id": "98788189-d444-4fcf-aeb7-3b4dfcf9e091",
   "metadata": {},
   "source": [
    "**Задача 10.**\n",
    "\n",
    "Выведите количество автомобилей, у которых длина автомобиля больше 90% автомобилей, производимых в этой стране."
   ]
  },
  {
   "cell_type": "code",
   "execution_count": null,
   "id": "0a0f504a-3964-4696-9f4b-c00879e082b2",
   "metadata": {},
   "outputs": [],
   "source": [
    "#############################\n",
    "### ╰( ͡° ͜ʖ ͡° )つ──────☆*:・ﾟ\n",
    "#############################"
   ]
  },
  {
   "cell_type": "markdown",
   "id": "009b7855-b265-416f-9120-df39f1f92d6f",
   "metadata": {},
   "source": [
    "#### [Объединение таблиц](https://pandas.pydata.org/docs/user_guide/merging.html)"
   ]
  },
  {
   "cell_type": "code",
   "execution_count": null,
   "id": "c3242fcc-ed90-4c59-84d7-71944a3dbb25",
   "metadata": {},
   "outputs": [],
   "source": [
    "raw_data = {\n",
    "    'subject_id': ['1', '2', '3', '4', '5'],\n",
    "    'first_name': ['Alex', 'Amy', 'Allen', 'Alice', 'Ayoung'], \n",
    "    'last_name': ['Anderson', 'Ackerman', 'Ali', 'Aoni', 'Atiches'],\n",
    "}\n",
    "df_a = pd.DataFrame(raw_data, columns = ['subject_id', 'first_name', 'last_name'])\n",
    "df_a.index = [0, 1, 2, 3, 4]\n",
    "df_a"
   ]
  },
  {
   "cell_type": "code",
   "execution_count": null,
   "id": "a8f8ca16-a622-425b-813f-44cabd52f94f",
   "metadata": {},
   "outputs": [],
   "source": [
    "raw_data = {\n",
    "    'subject_id': ['4', '5', '6', '7', '8'],\n",
    "    'first_name': ['Billy', 'Brian', 'Bran', 'Bryce', 'Betty'], \n",
    "    'last_name': ['Bonder', 'Black', 'Balwner', 'Brice', 'Btisan'],\n",
    "}\n",
    "df_b = pd.DataFrame(raw_data, columns = ['subject_id', 'first_name', 'last_name'])\n",
    "df_b.index = [2,3,4,5,6]\n",
    "df_b"
   ]
  },
  {
   "cell_type": "code",
   "execution_count": null,
   "id": "7f6dc286-132b-42bd-bc49-51ea6375a612",
   "metadata": {},
   "outputs": [],
   "source": [
    "df_new = pd.concat([df_a, df_b], axis=0)\n",
    "df_new"
   ]
  },
  {
   "cell_type": "code",
   "execution_count": null,
   "id": "ff5749b2-15fd-457b-906a-ebafe5a4651b",
   "metadata": {},
   "outputs": [],
   "source": [
    "df_new_ = pd.concat([df_a, df_b], axis=1)\n",
    "df_new_"
   ]
  },
  {
   "cell_type": "markdown",
   "id": "699645a6-0a8f-4af0-ba4d-3349eb2c1097",
   "metadata": {},
   "source": [
    "<img src=\"./src/sql_joins.jpg\" width=\"950px\">"
   ]
  },
  {
   "cell_type": "code",
   "execution_count": null,
   "id": "dd9e7ac4-1f4e-4524-9114-fd3cbebaae16",
   "metadata": {},
   "outputs": [],
   "source": [
    "raw_data = {\n",
    "    'subject_id': ['1', '2', '3', '4', '5', '7', '8', '9', '10', '11'],\n",
    "    'test_id': [51, 15, 15, 61, 16, 14, 15, 1, 61, 16],\n",
    "}\n",
    "df_n = pd.DataFrame(raw_data, columns = ['subject_id','test_id'])\n",
    "df_n"
   ]
  },
  {
   "cell_type": "code",
   "execution_count": null,
   "id": "cd0f5223-909d-4803-82a4-3fad106c4e90",
   "metadata": {},
   "outputs": [],
   "source": [
    "pd.merge(df_new, df_n, on='subject_id')"
   ]
  },
  {
   "cell_type": "code",
   "execution_count": null,
   "id": "a1d5d82f-90b7-4a54-9eca-2a5d475b6770",
   "metadata": {},
   "outputs": [],
   "source": [
    "pd.merge(df_a, df_b, on='subject_id', how='left')"
   ]
  },
  {
   "cell_type": "code",
   "execution_count": null,
   "id": "115de7e3-7a44-4051-b1a0-5985641e5e78",
   "metadata": {},
   "outputs": [],
   "source": [
    "pd.merge(df_a, df_b, on='subject_id', how='right')"
   ]
  }
 ],
 "metadata": {
  "kernelspec": {
   "display_name": "Python 3 (ipykernel)",
   "language": "python",
   "name": "python3"
  },
  "language_info": {
   "codemirror_mode": {
    "name": "ipython",
    "version": 3
   },
   "file_extension": ".py",
   "mimetype": "text/x-python",
   "name": "python",
   "nbconvert_exporter": "python",
   "pygments_lexer": "ipython3",
   "version": "3.12.3"
  }
 },
 "nbformat": 4,
 "nbformat_minor": 5
}
